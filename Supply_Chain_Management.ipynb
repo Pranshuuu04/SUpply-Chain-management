{
  "nbformat": 4,
  "nbformat_minor": 0,
  "metadata": {
    "colab": {
      "provenance": []
    },
    "kernelspec": {
      "name": "python3",
      "display_name": "Python 3"
    },
    "language_info": {
      "name": "python"
    }
  },
  "cells": [
    {
      "cell_type": "code",
      "execution_count": 10,
      "metadata": {
        "id": "dvZoHfeSXQBH"
      },
      "outputs": [],
      "source": [
        "import pandas as pd\n",
        "import numpy as np\n",
        "import tensorflow as tf\n",
        "from tensorflow.keras.models import Sequential\n",
        "from tensorflow.keras.layers import Dense\n",
        "from sklearn.model_selection import train_test_split\n",
        "from sklearn.preprocessing import StandardScaler, OneHotEncoder\n",
        "from sklearn.compose import ColumnTransformer\n",
        "from sklearn.metrics import mean_squared_error\n",
        "import matplotlib.pyplot as plt\n",
        "import datetime\n",
        "import os"
      ]
    },
    {
      "cell_type": "code",
      "source": [
        "df = pd.read_csv('/content/supply_chain_data.csv')"
      ],
      "metadata": {
        "id": "is_VXhTfXmCp"
      },
      "execution_count": 15,
      "outputs": []
    },
    {
      "cell_type": "code",
      "source": [
        "data.head()"
      ],
      "metadata": {
        "colab": {
          "base_uri": "https://localhost:8080/",
          "height": 394
        },
        "id": "rq0DHmGFYh72",
        "outputId": "b41a543b-284e-45f1-b165-b25941137300"
      },
      "execution_count": 16,
      "outputs": [
        {
          "output_type": "execute_result",
          "data": {
            "text/plain": [
              "  Product type   SKU      Price  Availability  Number of products sold  \\\n",
              "0     haircare  SKU0  69.808006            55                      802   \n",
              "1     skincare  SKU1  14.843523            95                      736   \n",
              "2     haircare  SKU2  11.319683            34                        8   \n",
              "3     skincare  SKU3  61.163343            68                       83   \n",
              "4     skincare  SKU4   4.805496            26                      871   \n",
              "\n",
              "   Revenue generated Customer demographics  Stock levels  Lead times  \\\n",
              "0        8661.996792            Non-binary            58           7   \n",
              "1        7460.900065                Female            53          30   \n",
              "2        9577.749626               Unknown             1          10   \n",
              "3        7766.836426            Non-binary            23          13   \n",
              "4        2686.505152            Non-binary             5           3   \n",
              "\n",
              "   Order quantities  ...  Location Lead time  Production volumes  \\\n",
              "0                96  ...    Mumbai        29                 215   \n",
              "1                37  ...    Mumbai        23                 517   \n",
              "2                88  ...    Mumbai        12                 971   \n",
              "3                59  ...   Kolkata        24                 937   \n",
              "4                56  ...     Delhi         5                 414   \n",
              "\n",
              "  Manufacturing lead time Manufacturing costs  Inspection results  \\\n",
              "0                      29           46.279879             Pending   \n",
              "1                      30           33.616769             Pending   \n",
              "2                      27           30.688019             Pending   \n",
              "3                      18           35.624741                Fail   \n",
              "4                       3           92.065161                Fail   \n",
              "\n",
              "   Defect rates  Transportation modes   Routes       Costs  \n",
              "0      0.226410                  Road  Route B  187.752075  \n",
              "1      4.854068                  Road  Route B  503.065579  \n",
              "2      4.580593                   Air  Route C  141.920282  \n",
              "3      4.746649                  Rail  Route A  254.776159  \n",
              "4      3.145580                   Air  Route A  923.440632  \n",
              "\n",
              "[5 rows x 24 columns]"
            ],
            "text/html": [
              "\n",
              "  <div id=\"df-06b5456c-fd29-49ed-ba92-7b886f4bae80\" class=\"colab-df-container\">\n",
              "    <div>\n",
              "<style scoped>\n",
              "    .dataframe tbody tr th:only-of-type {\n",
              "        vertical-align: middle;\n",
              "    }\n",
              "\n",
              "    .dataframe tbody tr th {\n",
              "        vertical-align: top;\n",
              "    }\n",
              "\n",
              "    .dataframe thead th {\n",
              "        text-align: right;\n",
              "    }\n",
              "</style>\n",
              "<table border=\"1\" class=\"dataframe\">\n",
              "  <thead>\n",
              "    <tr style=\"text-align: right;\">\n",
              "      <th></th>\n",
              "      <th>Product type</th>\n",
              "      <th>SKU</th>\n",
              "      <th>Price</th>\n",
              "      <th>Availability</th>\n",
              "      <th>Number of products sold</th>\n",
              "      <th>Revenue generated</th>\n",
              "      <th>Customer demographics</th>\n",
              "      <th>Stock levels</th>\n",
              "      <th>Lead times</th>\n",
              "      <th>Order quantities</th>\n",
              "      <th>...</th>\n",
              "      <th>Location</th>\n",
              "      <th>Lead time</th>\n",
              "      <th>Production volumes</th>\n",
              "      <th>Manufacturing lead time</th>\n",
              "      <th>Manufacturing costs</th>\n",
              "      <th>Inspection results</th>\n",
              "      <th>Defect rates</th>\n",
              "      <th>Transportation modes</th>\n",
              "      <th>Routes</th>\n",
              "      <th>Costs</th>\n",
              "    </tr>\n",
              "  </thead>\n",
              "  <tbody>\n",
              "    <tr>\n",
              "      <th>0</th>\n",
              "      <td>haircare</td>\n",
              "      <td>SKU0</td>\n",
              "      <td>69.808006</td>\n",
              "      <td>55</td>\n",
              "      <td>802</td>\n",
              "      <td>8661.996792</td>\n",
              "      <td>Non-binary</td>\n",
              "      <td>58</td>\n",
              "      <td>7</td>\n",
              "      <td>96</td>\n",
              "      <td>...</td>\n",
              "      <td>Mumbai</td>\n",
              "      <td>29</td>\n",
              "      <td>215</td>\n",
              "      <td>29</td>\n",
              "      <td>46.279879</td>\n",
              "      <td>Pending</td>\n",
              "      <td>0.226410</td>\n",
              "      <td>Road</td>\n",
              "      <td>Route B</td>\n",
              "      <td>187.752075</td>\n",
              "    </tr>\n",
              "    <tr>\n",
              "      <th>1</th>\n",
              "      <td>skincare</td>\n",
              "      <td>SKU1</td>\n",
              "      <td>14.843523</td>\n",
              "      <td>95</td>\n",
              "      <td>736</td>\n",
              "      <td>7460.900065</td>\n",
              "      <td>Female</td>\n",
              "      <td>53</td>\n",
              "      <td>30</td>\n",
              "      <td>37</td>\n",
              "      <td>...</td>\n",
              "      <td>Mumbai</td>\n",
              "      <td>23</td>\n",
              "      <td>517</td>\n",
              "      <td>30</td>\n",
              "      <td>33.616769</td>\n",
              "      <td>Pending</td>\n",
              "      <td>4.854068</td>\n",
              "      <td>Road</td>\n",
              "      <td>Route B</td>\n",
              "      <td>503.065579</td>\n",
              "    </tr>\n",
              "    <tr>\n",
              "      <th>2</th>\n",
              "      <td>haircare</td>\n",
              "      <td>SKU2</td>\n",
              "      <td>11.319683</td>\n",
              "      <td>34</td>\n",
              "      <td>8</td>\n",
              "      <td>9577.749626</td>\n",
              "      <td>Unknown</td>\n",
              "      <td>1</td>\n",
              "      <td>10</td>\n",
              "      <td>88</td>\n",
              "      <td>...</td>\n",
              "      <td>Mumbai</td>\n",
              "      <td>12</td>\n",
              "      <td>971</td>\n",
              "      <td>27</td>\n",
              "      <td>30.688019</td>\n",
              "      <td>Pending</td>\n",
              "      <td>4.580593</td>\n",
              "      <td>Air</td>\n",
              "      <td>Route C</td>\n",
              "      <td>141.920282</td>\n",
              "    </tr>\n",
              "    <tr>\n",
              "      <th>3</th>\n",
              "      <td>skincare</td>\n",
              "      <td>SKU3</td>\n",
              "      <td>61.163343</td>\n",
              "      <td>68</td>\n",
              "      <td>83</td>\n",
              "      <td>7766.836426</td>\n",
              "      <td>Non-binary</td>\n",
              "      <td>23</td>\n",
              "      <td>13</td>\n",
              "      <td>59</td>\n",
              "      <td>...</td>\n",
              "      <td>Kolkata</td>\n",
              "      <td>24</td>\n",
              "      <td>937</td>\n",
              "      <td>18</td>\n",
              "      <td>35.624741</td>\n",
              "      <td>Fail</td>\n",
              "      <td>4.746649</td>\n",
              "      <td>Rail</td>\n",
              "      <td>Route A</td>\n",
              "      <td>254.776159</td>\n",
              "    </tr>\n",
              "    <tr>\n",
              "      <th>4</th>\n",
              "      <td>skincare</td>\n",
              "      <td>SKU4</td>\n",
              "      <td>4.805496</td>\n",
              "      <td>26</td>\n",
              "      <td>871</td>\n",
              "      <td>2686.505152</td>\n",
              "      <td>Non-binary</td>\n",
              "      <td>5</td>\n",
              "      <td>3</td>\n",
              "      <td>56</td>\n",
              "      <td>...</td>\n",
              "      <td>Delhi</td>\n",
              "      <td>5</td>\n",
              "      <td>414</td>\n",
              "      <td>3</td>\n",
              "      <td>92.065161</td>\n",
              "      <td>Fail</td>\n",
              "      <td>3.145580</td>\n",
              "      <td>Air</td>\n",
              "      <td>Route A</td>\n",
              "      <td>923.440632</td>\n",
              "    </tr>\n",
              "  </tbody>\n",
              "</table>\n",
              "<p>5 rows × 24 columns</p>\n",
              "</div>\n",
              "    <div class=\"colab-df-buttons\">\n",
              "\n",
              "  <div class=\"colab-df-container\">\n",
              "    <button class=\"colab-df-convert\" onclick=\"convertToInteractive('df-06b5456c-fd29-49ed-ba92-7b886f4bae80')\"\n",
              "            title=\"Convert this dataframe to an interactive table.\"\n",
              "            style=\"display:none;\">\n",
              "\n",
              "  <svg xmlns=\"http://www.w3.org/2000/svg\" height=\"24px\" viewBox=\"0 -960 960 960\">\n",
              "    <path d=\"M120-120v-720h720v720H120Zm60-500h600v-160H180v160Zm220 220h160v-160H400v160Zm0 220h160v-160H400v160ZM180-400h160v-160H180v160Zm440 0h160v-160H620v160ZM180-180h160v-160H180v160Zm440 0h160v-160H620v160Z\"/>\n",
              "  </svg>\n",
              "    </button>\n",
              "\n",
              "  <style>\n",
              "    .colab-df-container {\n",
              "      display:flex;\n",
              "      gap: 12px;\n",
              "    }\n",
              "\n",
              "    .colab-df-convert {\n",
              "      background-color: #E8F0FE;\n",
              "      border: none;\n",
              "      border-radius: 50%;\n",
              "      cursor: pointer;\n",
              "      display: none;\n",
              "      fill: #1967D2;\n",
              "      height: 32px;\n",
              "      padding: 0 0 0 0;\n",
              "      width: 32px;\n",
              "    }\n",
              "\n",
              "    .colab-df-convert:hover {\n",
              "      background-color: #E2EBFA;\n",
              "      box-shadow: 0px 1px 2px rgba(60, 64, 67, 0.3), 0px 1px 3px 1px rgba(60, 64, 67, 0.15);\n",
              "      fill: #174EA6;\n",
              "    }\n",
              "\n",
              "    .colab-df-buttons div {\n",
              "      margin-bottom: 4px;\n",
              "    }\n",
              "\n",
              "    [theme=dark] .colab-df-convert {\n",
              "      background-color: #3B4455;\n",
              "      fill: #D2E3FC;\n",
              "    }\n",
              "\n",
              "    [theme=dark] .colab-df-convert:hover {\n",
              "      background-color: #434B5C;\n",
              "      box-shadow: 0px 1px 3px 1px rgba(0, 0, 0, 0.15);\n",
              "      filter: drop-shadow(0px 1px 2px rgba(0, 0, 0, 0.3));\n",
              "      fill: #FFFFFF;\n",
              "    }\n",
              "  </style>\n",
              "\n",
              "    <script>\n",
              "      const buttonEl =\n",
              "        document.querySelector('#df-06b5456c-fd29-49ed-ba92-7b886f4bae80 button.colab-df-convert');\n",
              "      buttonEl.style.display =\n",
              "        google.colab.kernel.accessAllowed ? 'block' : 'none';\n",
              "\n",
              "      async function convertToInteractive(key) {\n",
              "        const element = document.querySelector('#df-06b5456c-fd29-49ed-ba92-7b886f4bae80');\n",
              "        const dataTable =\n",
              "          await google.colab.kernel.invokeFunction('convertToInteractive',\n",
              "                                                    [key], {});\n",
              "        if (!dataTable) return;\n",
              "\n",
              "        const docLinkHtml = 'Like what you see? Visit the ' +\n",
              "          '<a target=\"_blank\" href=https://colab.research.google.com/notebooks/data_table.ipynb>data table notebook</a>'\n",
              "          + ' to learn more about interactive tables.';\n",
              "        element.innerHTML = '';\n",
              "        dataTable['output_type'] = 'display_data';\n",
              "        await google.colab.output.renderOutput(dataTable, element);\n",
              "        const docLink = document.createElement('div');\n",
              "        docLink.innerHTML = docLinkHtml;\n",
              "        element.appendChild(docLink);\n",
              "      }\n",
              "    </script>\n",
              "  </div>\n",
              "\n",
              "\n",
              "    <div id=\"df-c602d067-022b-4887-83fc-18a86f23aa95\">\n",
              "      <button class=\"colab-df-quickchart\" onclick=\"quickchart('df-c602d067-022b-4887-83fc-18a86f23aa95')\"\n",
              "                title=\"Suggest charts\"\n",
              "                style=\"display:none;\">\n",
              "\n",
              "<svg xmlns=\"http://www.w3.org/2000/svg\" height=\"24px\"viewBox=\"0 0 24 24\"\n",
              "     width=\"24px\">\n",
              "    <g>\n",
              "        <path d=\"M19 3H5c-1.1 0-2 .9-2 2v14c0 1.1.9 2 2 2h14c1.1 0 2-.9 2-2V5c0-1.1-.9-2-2-2zM9 17H7v-7h2v7zm4 0h-2V7h2v10zm4 0h-2v-4h2v4z\"/>\n",
              "    </g>\n",
              "</svg>\n",
              "      </button>\n",
              "\n",
              "<style>\n",
              "  .colab-df-quickchart {\n",
              "      --bg-color: #E8F0FE;\n",
              "      --fill-color: #1967D2;\n",
              "      --hover-bg-color: #E2EBFA;\n",
              "      --hover-fill-color: #174EA6;\n",
              "      --disabled-fill-color: #AAA;\n",
              "      --disabled-bg-color: #DDD;\n",
              "  }\n",
              "\n",
              "  [theme=dark] .colab-df-quickchart {\n",
              "      --bg-color: #3B4455;\n",
              "      --fill-color: #D2E3FC;\n",
              "      --hover-bg-color: #434B5C;\n",
              "      --hover-fill-color: #FFFFFF;\n",
              "      --disabled-bg-color: #3B4455;\n",
              "      --disabled-fill-color: #666;\n",
              "  }\n",
              "\n",
              "  .colab-df-quickchart {\n",
              "    background-color: var(--bg-color);\n",
              "    border: none;\n",
              "    border-radius: 50%;\n",
              "    cursor: pointer;\n",
              "    display: none;\n",
              "    fill: var(--fill-color);\n",
              "    height: 32px;\n",
              "    padding: 0;\n",
              "    width: 32px;\n",
              "  }\n",
              "\n",
              "  .colab-df-quickchart:hover {\n",
              "    background-color: var(--hover-bg-color);\n",
              "    box-shadow: 0 1px 2px rgba(60, 64, 67, 0.3), 0 1px 3px 1px rgba(60, 64, 67, 0.15);\n",
              "    fill: var(--button-hover-fill-color);\n",
              "  }\n",
              "\n",
              "  .colab-df-quickchart-complete:disabled,\n",
              "  .colab-df-quickchart-complete:disabled:hover {\n",
              "    background-color: var(--disabled-bg-color);\n",
              "    fill: var(--disabled-fill-color);\n",
              "    box-shadow: none;\n",
              "  }\n",
              "\n",
              "  .colab-df-spinner {\n",
              "    border: 2px solid var(--fill-color);\n",
              "    border-color: transparent;\n",
              "    border-bottom-color: var(--fill-color);\n",
              "    animation:\n",
              "      spin 1s steps(1) infinite;\n",
              "  }\n",
              "\n",
              "  @keyframes spin {\n",
              "    0% {\n",
              "      border-color: transparent;\n",
              "      border-bottom-color: var(--fill-color);\n",
              "      border-left-color: var(--fill-color);\n",
              "    }\n",
              "    20% {\n",
              "      border-color: transparent;\n",
              "      border-left-color: var(--fill-color);\n",
              "      border-top-color: var(--fill-color);\n",
              "    }\n",
              "    30% {\n",
              "      border-color: transparent;\n",
              "      border-left-color: var(--fill-color);\n",
              "      border-top-color: var(--fill-color);\n",
              "      border-right-color: var(--fill-color);\n",
              "    }\n",
              "    40% {\n",
              "      border-color: transparent;\n",
              "      border-right-color: var(--fill-color);\n",
              "      border-top-color: var(--fill-color);\n",
              "    }\n",
              "    60% {\n",
              "      border-color: transparent;\n",
              "      border-right-color: var(--fill-color);\n",
              "    }\n",
              "    80% {\n",
              "      border-color: transparent;\n",
              "      border-right-color: var(--fill-color);\n",
              "      border-bottom-color: var(--fill-color);\n",
              "    }\n",
              "    90% {\n",
              "      border-color: transparent;\n",
              "      border-bottom-color: var(--fill-color);\n",
              "    }\n",
              "  }\n",
              "</style>\n",
              "\n",
              "      <script>\n",
              "        async function quickchart(key) {\n",
              "          const quickchartButtonEl =\n",
              "            document.querySelector('#' + key + ' button');\n",
              "          quickchartButtonEl.disabled = true;  // To prevent multiple clicks.\n",
              "          quickchartButtonEl.classList.add('colab-df-spinner');\n",
              "          try {\n",
              "            const charts = await google.colab.kernel.invokeFunction(\n",
              "                'suggestCharts', [key], {});\n",
              "          } catch (error) {\n",
              "            console.error('Error during call to suggestCharts:', error);\n",
              "          }\n",
              "          quickchartButtonEl.classList.remove('colab-df-spinner');\n",
              "          quickchartButtonEl.classList.add('colab-df-quickchart-complete');\n",
              "        }\n",
              "        (() => {\n",
              "          let quickchartButtonEl =\n",
              "            document.querySelector('#df-c602d067-022b-4887-83fc-18a86f23aa95 button');\n",
              "          quickchartButtonEl.style.display =\n",
              "            google.colab.kernel.accessAllowed ? 'block' : 'none';\n",
              "        })();\n",
              "      </script>\n",
              "    </div>\n",
              "\n",
              "    </div>\n",
              "  </div>\n"
            ],
            "application/vnd.google.colaboratory.intrinsic+json": {
              "type": "dataframe",
              "variable_name": "data"
            }
          },
          "metadata": {},
          "execution_count": 16
        }
      ]
    },
    {
      "cell_type": "code",
      "source": [
        "data = data.dropna()"
      ],
      "metadata": {
        "id": "3pvpAuQbXmHd"
      },
      "execution_count": 17,
      "outputs": []
    },
    {
      "cell_type": "code",
      "source": [
        "TARGET_COL = 'Number of products sold'\n"
      ],
      "metadata": {
        "id": "y6Ex_E24XmNw"
      },
      "execution_count": 18,
      "outputs": []
    },
    {
      "cell_type": "code",
      "source": [
        "start_date = datetime.date(2023, 1, 1)\n",
        "df['Date'] = [start_date + datetime.timedelta(days=i) for i in range(len(df))]\n"
      ],
      "metadata": {
        "id": "9IxbSlKZXmP5"
      },
      "execution_count": 19,
      "outputs": []
    },
    {
      "cell_type": "code",
      "source": [
        "df['Date'] = pd.to_datetime(df['Date'])\n",
        "df['Month'] = df['Date'].dt.month\n",
        "df['Day_of_Week'] = df['Date'].dt.dayofweek\n",
        "df['Quarter'] = df['Date'].dt.quarter"
      ],
      "metadata": {
        "id": "kNjYwRzQXmR_"
      },
      "execution_count": 21,
      "outputs": []
    },
    {
      "cell_type": "code",
      "source": [
        "df = df.drop('Date', axis=1)"
      ],
      "metadata": {
        "id": "GBB1RSGzXmUV"
      },
      "execution_count": 22,
      "outputs": []
    },
    {
      "cell_type": "code",
      "source": [
        "X = df.drop(columns=[TARGET_COL, 'SKU', 'Revenue generated']) # SKU is an ID, Revenue is calculated from Price*Sold\n",
        "y = df[TARGET_COL]\n"
      ],
      "metadata": {
        "id": "Sy5Zqk5MXmW2"
      },
      "execution_count": 23,
      "outputs": []
    },
    {
      "cell_type": "code",
      "source": [
        "categorical_features = X.select_dtypes(include=['object', 'int64']).columns.tolist()"
      ],
      "metadata": {
        "id": "LGJrfo7zXmZV"
      },
      "execution_count": 24,
      "outputs": []
    },
    {
      "cell_type": "code",
      "source": [
        "numerical_features = X.select_dtypes(include=['float64']).columns.tolist()"
      ],
      "metadata": {
        "id": "cyilwLHjXmcD"
      },
      "execution_count": 25,
      "outputs": []
    },
    {
      "cell_type": "code",
      "source": [
        "features_to_keep = [\n",
        "    'Price', 'Availability', 'Stock levels', 'Order quantities',\n",
        "    'Shipping times', 'Shipping costs', 'Lead time', 'Production volumes',\n",
        "    'Manufacturing lead time', 'Manufacturing costs', 'Defect rates',\n",
        "    'Month', 'Day_of_Week', 'Quarter', 'Product type',\n",
        "    'Customer demographics', 'Shipping carriers', 'Supplier name',\n",
        "    'Location', 'Inspection results', 'Transportation modes', 'Routes'\n",
        "]\n",
        "X = X[features_to_keep]"
      ],
      "metadata": {
        "id": "JFqorlR3XmfK"
      },
      "execution_count": 26,
      "outputs": []
    },
    {
      "cell_type": "code",
      "source": [
        "numerical_features = X.select_dtypes(include=['float64', 'int64']).columns.tolist()\n",
        "categorical_features = X.select_dtypes(include=['object']).columns.tolist()"
      ],
      "metadata": {
        "id": "5dTFKk1oXmhf"
      },
      "execution_count": 27,
      "outputs": []
    },
    {
      "cell_type": "code",
      "source": [
        "preprocessor = ColumnTransformer(\n",
        "    transformers=[\n",
        "        ('num', StandardScaler(), numerical_features),\n",
        "        ('cat', OneHotEncoder(handle_unknown='ignore'), categorical_features)\n",
        "    ],\n",
        "    remainder='passthrough'\n",
        ")"
      ],
      "metadata": {
        "id": "ERUfVdPiXmkD"
      },
      "execution_count": 28,
      "outputs": []
    },
    {
      "cell_type": "code",
      "source": [
        "X_processed = preprocessor.fit_transform(X)\n",
        "X_train, X_test, y_train, y_test = train_test_split(\n",
        "    X_processed, y, test_size=0.2, random_state=42\n",
        ")\n"
      ],
      "metadata": {
        "id": "J9JRhqYNXmmg"
      },
      "execution_count": 29,
      "outputs": []
    },
    {
      "cell_type": "code",
      "source": [
        "y_train = y_train.to_numpy().reshape(-1, 1)\n",
        "y_test = y_test.to_numpy().reshape(-1, 1)\n"
      ],
      "metadata": {
        "id": "jKZ0vaf5Xmo_"
      },
      "execution_count": 30,
      "outputs": []
    },
    {
      "cell_type": "code",
      "source": [
        "print(f\"Training data shape: {X_train.shape}, Target shape: {y_train.shape}\")"
      ],
      "metadata": {
        "colab": {
          "base_uri": "https://localhost:8080/"
        },
        "id": "8Mx0_nLFXmrk",
        "outputId": "7cc1502b-6579-45d7-c620-7fd13f5d9a8e"
      },
      "execution_count": 31,
      "outputs": [
        {
          "output_type": "stream",
          "name": "stdout",
          "text": [
            "Training data shape: (80, 44), Target shape: (80, 1)\n"
          ]
        }
      ]
    },
    {
      "cell_type": "code",
      "source": [
        "input_dim = X_train.shape[1]"
      ],
      "metadata": {
        "id": "ivYjp_xsXmuA"
      },
      "execution_count": 32,
      "outputs": []
    },
    {
      "cell_type": "code",
      "source": [
        "model = Sequential([\n",
        "    # Input Layer (and first hidden layer)\n",
        "    Dense(128, activation='relu', input_shape=(input_dim,)),\n",
        "    # Second Hidden Layer\n",
        "    Dense(64, activation='relu'),\n",
        "    # Third Hidden Layer\n",
        "    Dense(32, activation='relu'),\n",
        "    # Output Layer (1 node for the predicted 'Number of products sold')\n",
        "    Dense(1)\n",
        "])"
      ],
      "metadata": {
        "colab": {
          "base_uri": "https://localhost:8080/"
        },
        "id": "g12Zsfxjai6S",
        "outputId": "1ab34489-dc16-4f54-bd6a-43850a4a2e9e"
      },
      "execution_count": 33,
      "outputs": [
        {
          "output_type": "stream",
          "name": "stderr",
          "text": [
            "/usr/local/lib/python3.12/dist-packages/keras/src/layers/core/dense.py:93: UserWarning: Do not pass an `input_shape`/`input_dim` argument to a layer. When using Sequential models, prefer using an `Input(shape)` object as the first layer in the model instead.\n",
            "  super().__init__(activity_regularizer=activity_regularizer, **kwargs)\n"
          ]
        }
      ]
    },
    {
      "cell_type": "code",
      "source": [
        "model.compile(optimizer='adam', loss='mse')"
      ],
      "metadata": {
        "id": "yDDTVbvgai9M"
      },
      "execution_count": 34,
      "outputs": []
    },
    {
      "cell_type": "code",
      "source": [
        "print(model.summary())"
      ],
      "metadata": {
        "colab": {
          "base_uri": "https://localhost:8080/",
          "height": 289
        },
        "id": "WLvPm4YDajAE",
        "outputId": "5eb663e7-8b6f-4203-9f9f-9c2952b8e91b"
      },
      "execution_count": 35,
      "outputs": [
        {
          "output_type": "display_data",
          "data": {
            "text/plain": [
              "\u001b[1mModel: \"sequential\"\u001b[0m\n"
            ],
            "text/html": [
              "<pre style=\"white-space:pre;overflow-x:auto;line-height:normal;font-family:Menlo,'DejaVu Sans Mono',consolas,'Courier New',monospace\"><span style=\"font-weight: bold\">Model: \"sequential\"</span>\n",
              "</pre>\n"
            ]
          },
          "metadata": {}
        },
        {
          "output_type": "display_data",
          "data": {
            "text/plain": [
              "┏━━━━━━━━━━━━━━━━━━━━━━━━━━━━━━━━━┳━━━━━━━━━━━━━━━━━━━━━━━━┳━━━━━━━━━━━━━━━┓\n",
              "┃\u001b[1m \u001b[0m\u001b[1mLayer (type)                   \u001b[0m\u001b[1m \u001b[0m┃\u001b[1m \u001b[0m\u001b[1mOutput Shape          \u001b[0m\u001b[1m \u001b[0m┃\u001b[1m \u001b[0m\u001b[1m      Param #\u001b[0m\u001b[1m \u001b[0m┃\n",
              "┡━━━━━━━━━━━━━━━━━━━━━━━━━━━━━━━━━╇━━━━━━━━━━━━━━━━━━━━━━━━╇━━━━━━━━━━━━━━━┩\n",
              "│ dense (\u001b[38;5;33mDense\u001b[0m)                   │ (\u001b[38;5;45mNone\u001b[0m, \u001b[38;5;34m128\u001b[0m)            │         \u001b[38;5;34m5,760\u001b[0m │\n",
              "├─────────────────────────────────┼────────────────────────┼───────────────┤\n",
              "│ dense_1 (\u001b[38;5;33mDense\u001b[0m)                 │ (\u001b[38;5;45mNone\u001b[0m, \u001b[38;5;34m64\u001b[0m)             │         \u001b[38;5;34m8,256\u001b[0m │\n",
              "├─────────────────────────────────┼────────────────────────┼───────────────┤\n",
              "│ dense_2 (\u001b[38;5;33mDense\u001b[0m)                 │ (\u001b[38;5;45mNone\u001b[0m, \u001b[38;5;34m32\u001b[0m)             │         \u001b[38;5;34m2,080\u001b[0m │\n",
              "├─────────────────────────────────┼────────────────────────┼───────────────┤\n",
              "│ dense_3 (\u001b[38;5;33mDense\u001b[0m)                 │ (\u001b[38;5;45mNone\u001b[0m, \u001b[38;5;34m1\u001b[0m)              │            \u001b[38;5;34m33\u001b[0m │\n",
              "└─────────────────────────────────┴────────────────────────┴───────────────┘\n"
            ],
            "text/html": [
              "<pre style=\"white-space:pre;overflow-x:auto;line-height:normal;font-family:Menlo,'DejaVu Sans Mono',consolas,'Courier New',monospace\">┏━━━━━━━━━━━━━━━━━━━━━━━━━━━━━━━━━┳━━━━━━━━━━━━━━━━━━━━━━━━┳━━━━━━━━━━━━━━━┓\n",
              "┃<span style=\"font-weight: bold\"> Layer (type)                    </span>┃<span style=\"font-weight: bold\"> Output Shape           </span>┃<span style=\"font-weight: bold\">       Param # </span>┃\n",
              "┡━━━━━━━━━━━━━━━━━━━━━━━━━━━━━━━━━╇━━━━━━━━━━━━━━━━━━━━━━━━╇━━━━━━━━━━━━━━━┩\n",
              "│ dense (<span style=\"color: #0087ff; text-decoration-color: #0087ff\">Dense</span>)                   │ (<span style=\"color: #00d7ff; text-decoration-color: #00d7ff\">None</span>, <span style=\"color: #00af00; text-decoration-color: #00af00\">128</span>)            │         <span style=\"color: #00af00; text-decoration-color: #00af00\">5,760</span> │\n",
              "├─────────────────────────────────┼────────────────────────┼───────────────┤\n",
              "│ dense_1 (<span style=\"color: #0087ff; text-decoration-color: #0087ff\">Dense</span>)                 │ (<span style=\"color: #00d7ff; text-decoration-color: #00d7ff\">None</span>, <span style=\"color: #00af00; text-decoration-color: #00af00\">64</span>)             │         <span style=\"color: #00af00; text-decoration-color: #00af00\">8,256</span> │\n",
              "├─────────────────────────────────┼────────────────────────┼───────────────┤\n",
              "│ dense_2 (<span style=\"color: #0087ff; text-decoration-color: #0087ff\">Dense</span>)                 │ (<span style=\"color: #00d7ff; text-decoration-color: #00d7ff\">None</span>, <span style=\"color: #00af00; text-decoration-color: #00af00\">32</span>)             │         <span style=\"color: #00af00; text-decoration-color: #00af00\">2,080</span> │\n",
              "├─────────────────────────────────┼────────────────────────┼───────────────┤\n",
              "│ dense_3 (<span style=\"color: #0087ff; text-decoration-color: #0087ff\">Dense</span>)                 │ (<span style=\"color: #00d7ff; text-decoration-color: #00d7ff\">None</span>, <span style=\"color: #00af00; text-decoration-color: #00af00\">1</span>)              │            <span style=\"color: #00af00; text-decoration-color: #00af00\">33</span> │\n",
              "└─────────────────────────────────┴────────────────────────┴───────────────┘\n",
              "</pre>\n"
            ]
          },
          "metadata": {}
        },
        {
          "output_type": "display_data",
          "data": {
            "text/plain": [
              "\u001b[1m Total params: \u001b[0m\u001b[38;5;34m16,129\u001b[0m (63.00 KB)\n"
            ],
            "text/html": [
              "<pre style=\"white-space:pre;overflow-x:auto;line-height:normal;font-family:Menlo,'DejaVu Sans Mono',consolas,'Courier New',monospace\"><span style=\"font-weight: bold\"> Total params: </span><span style=\"color: #00af00; text-decoration-color: #00af00\">16,129</span> (63.00 KB)\n",
              "</pre>\n"
            ]
          },
          "metadata": {}
        },
        {
          "output_type": "display_data",
          "data": {
            "text/plain": [
              "\u001b[1m Trainable params: \u001b[0m\u001b[38;5;34m16,129\u001b[0m (63.00 KB)\n"
            ],
            "text/html": [
              "<pre style=\"white-space:pre;overflow-x:auto;line-height:normal;font-family:Menlo,'DejaVu Sans Mono',consolas,'Courier New',monospace\"><span style=\"font-weight: bold\"> Trainable params: </span><span style=\"color: #00af00; text-decoration-color: #00af00\">16,129</span> (63.00 KB)\n",
              "</pre>\n"
            ]
          },
          "metadata": {}
        },
        {
          "output_type": "display_data",
          "data": {
            "text/plain": [
              "\u001b[1m Non-trainable params: \u001b[0m\u001b[38;5;34m0\u001b[0m (0.00 B)\n"
            ],
            "text/html": [
              "<pre style=\"white-space:pre;overflow-x:auto;line-height:normal;font-family:Menlo,'DejaVu Sans Mono',consolas,'Courier New',monospace\"><span style=\"font-weight: bold\"> Non-trainable params: </span><span style=\"color: #00af00; text-decoration-color: #00af00\">0</span> (0.00 B)\n",
              "</pre>\n"
            ]
          },
          "metadata": {}
        },
        {
          "output_type": "stream",
          "name": "stdout",
          "text": [
            "None\n"
          ]
        }
      ]
    },
    {
      "cell_type": "code",
      "source": [
        "history = model.fit(\n",
        "    X_train, y_train,\n",
        "    epochs=50,\n",
        "    batch_size=32,\n",
        "    validation_split=0.2, # 20% validation split\n",
        "    verbose=0 # Set to 1 to see progress\n",
        ")"
      ],
      "metadata": {
        "id": "_8JAbpuEajC3"
      },
      "execution_count": 36,
      "outputs": []
    },
    {
      "cell_type": "code",
      "source": [
        "print(\"\\nModel training complete (50 epochs).\")\n"
      ],
      "metadata": {
        "colab": {
          "base_uri": "https://localhost:8080/"
        },
        "id": "cJ0ecnmcajFi",
        "outputId": "8b7c2686-f31c-472e-ece4-a9de7fb6ef14"
      },
      "execution_count": 37,
      "outputs": [
        {
          "output_type": "stream",
          "name": "stdout",
          "text": [
            "\n",
            "Model training complete (50 epochs).\n"
          ]
        }
      ]
    },
    {
      "cell_type": "code",
      "source": [
        "mse_test = model.evaluate(X_test, y_test, verbose=0)\n",
        "mse_value = round(mse_test, 2)\n",
        "print(f\"\\nModel Evaluation (Mean Squared Error on Test Set): {mse_value}\")\n",
        "\n",
        "y_pred = model.predict(X_test, verbose=0)\n",
        "\n",
        "plt.figure(figsize=(8, 6))\n",
        "plt.scatter(y_test, y_pred, alpha=0.7)\n",
        "plt.plot([y_test.min(), y_test.max()], [y_test.min(), y_test.max()], 'r--', lw=2, label='Perfect Prediction Line')\n",
        "plt.title('True vs. Predicted Demand (Sales)')\n",
        "plt.xlabel('True Number of Products Sold')\n",
        "plt.ylabel('Predicted Number of Products Sold')\n",
        "plt.legend()\n",
        "plt.grid(True)\n",
        "plt.show()\n",
        "\n",
        "print(f\"\\nFinal Report Value: MSE_value is now set to {mse_value}\")"
      ],
      "metadata": {
        "colab": {
          "base_uri": "https://localhost:8080/",
          "height": 633
        },
        "id": "wKc8J0PcajH-",
        "outputId": "5ce75672-8520-47cc-ff16-4bec00cd57c1"
      },
      "execution_count": 38,
      "outputs": [
        {
          "output_type": "stream",
          "name": "stdout",
          "text": [
            "\n",
            "Model Evaluation (Mean Squared Error on Test Set): 133195.33\n"
          ]
        },
        {
          "output_type": "display_data",
          "data": {
            "text/plain": [
              "<Figure size 800x600 with 1 Axes>"
            ],
            "image/png": "[encoded data removed]"
          },
          "metadata": {}
        },
        {
          "output_type": "stream",
          "name": "stdout",
          "text": [
            "\n",
            "Final Report Value: MSE_value is now set to 133195.33\n"
          ]
        }
      ]
    },
    {
      "cell_type": "code",
      "source": [
        "model_filename = 'demand_forecasting_nn_model.h5'\n",
        "model.save(model_filename)\n",
        "print(f\"\\nTrained model saved as: {model_filename}\")\n",
        "new_data_point = X.iloc[[0]].copy()\n",
        "new_data_point['Price'] = 50.0\n",
        "new_data_point['Availability'] = 80\n",
        "new_data_point['Stock levels'] = 100\n",
        "new_data_point['Order quantities'] = 50\n",
        "new_data_processed = preprocessor.transform(new_data_point)\n",
        "new_prediction = model.predict(new_data_processed, verbose=0)[0][0]\n",
        "print(\"\\n--- Example Prediction ---\")\n",
        "print(f\"Input Features (Sample): {new_data_point.values[0]}\")\n",
        "print(f\"The model forecasts a demand of approximately: {int(round(new_prediction))} units.\")"
      ],
      "metadata": {
        "colab": {
          "base_uri": "https://localhost:8080/"
        },
        "id": "uaboJDZyajKk",
        "outputId": "f74ecea1-719b-4f9f-ffd7-92d1768f5b86"
      },
      "execution_count": 39,
      "outputs": [
        {
          "output_type": "stream",
          "name": "stderr",
          "text": [
            "WARNING:absl:You are saving your model as an HDF5 file via `model.save()` or `keras.saving.save_model(model)`. This file format is considered legacy. We recommend using instead the native Keras format, e.g. `model.save('my_model.keras')` or `keras.saving.save_model(model, 'my_model.keras')`. \n"
          ]
        },
        {
          "output_type": "stream",
          "name": "stdout",
          "text": [
            "\n",
            "Trained model saved as: demand_forecasting_nn_model.h5\n",
            "\n",
            "--- Example Prediction ---\n",
            "Input Features (Sample): [50.0 80 100 50 4 2.956572139430807 29 215 29 46.27987924050832\n",
            " 0.2264103608499251 1 6 1 'haircare' 'Non-binary' 'Carrier B' 'Supplier 3'\n",
            " 'Mumbai' 'Pending' 'Road' 'Route B']\n",
            "The model forecasts a demand of approximately: 450 units.\n"
          ]
        }
      ]
    },
    {
      "cell_type": "code",
      "source": [],
      "metadata": {
        "id": "0aEbNYQJajMx"
      },
      "execution_count": null,
      "outputs": []
    },
    {
      "cell_type": "code",
      "source": [],
      "metadata": {
        "id": "0zzSJF0DajPC"
      },
      "execution_count": null,
      "outputs": []
    },
    {
      "cell_type": "code",
      "source": [],
      "metadata": {
        "id": "_re-ErVgajRh"
      },
      "execution_count": null,
      "outputs": []
    },
    {
      "cell_type": "code",
      "source": [],
      "metadata": {
        "id": "Ae0auiDEajUN"
      },
      "execution_count": null,
      "outputs": []
    },
    {
      "cell_type": "code",
      "source": [],
      "metadata": {
        "id": "LqSdEIypajWt"
      },
      "execution_count": null,
      "outputs": []
    },
    {
      "cell_type": "code",
      "source": [],
      "metadata": {
        "id": "3ad63IaIXmwX"
      },
      "execution_count": null,
      "outputs": []
    },
    {
      "cell_type": "code",
      "source": [],
      "metadata": {
        "id": "FW_6R8kdXmyn"
      },
      "execution_count": null,
      "outputs": []
    },
    {
      "cell_type": "code",
      "source": [],
      "metadata": {
        "id": "zvz0ALZNXm03"
      },
      "execution_count": null,
      "outputs": []
    },
    {
      "cell_type": "code",
      "source": [],
      "metadata": {
        "id": "JqWGIkhJXm3H"
      },
      "execution_count": null,
      "outputs": []
    },
    {
      "cell_type": "code",
      "source": [],
      "metadata": {
        "id": "Q7LN2HlJXm5h"
      },
      "execution_count": null,
      "outputs": []
    },
    {
      "cell_type": "code",
      "source": [],
      "metadata": {
        "id": "1xySp_SpXm75"
      },
      "execution_count": null,
      "outputs": []
    }
  ]
}